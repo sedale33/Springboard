{
 "cells": [
  {
   "cell_type": "markdown",
   "metadata": {},
   "source": [
    "# Examining Racial Discrimination in the US Job Market\n",
    "\n",
    "### Background\n",
    "Racial discrimination continues to be pervasive in cultures throughout the world. Researchers examined the level of racial discrimination in the United States labor market by randomly assigning identical résumés to black-sounding or white-sounding names and observing the impact on requests for interviews from employers.\n",
    "\n",
    "### Data\n",
    "In the dataset provided, each row represents a resume. The 'race' column has two values, 'b' and 'w', indicating black-sounding and white-sounding. The column 'call' has two values, 1 and 0, indicating whether the resume received a call from employers or not.\n",
    "\n",
    "Note that the 'b' and 'w' values in race are assigned randomly to the resumes when presented to the employer."
   ]
  },
  {
   "cell_type": "markdown",
   "metadata": {},
   "source": [
    "<div class=\"span5 alert alert-info\">\n",
    "### Exercises\n",
    "You will perform a statistical analysis to establish whether race has a significant impact on the rate of callbacks for resumes.\n",
    "\n",
    "Answer the following questions **in this notebook below and submit to your Github account**. \n",
    "\n",
    "   1. What test is appropriate for this problem? Does CLT apply?\n",
    "   2. What are the null and alternate hypotheses?\n",
    "   3. Compute margin of error, confidence interval, and p-value. Try using both the bootstrapping and the frequentist statistical approaches.\n",
    "   4. Write a story describing the statistical significance in the context or the original problem.\n",
    "   5. Does your analysis mean that race/name is the most important factor in callback success? Why or why not? If not, how would you amend your analysis?\n",
    "\n",
    "You can include written notes in notebook cells using Markdown: \n",
    "   - In the control panel at the top, choose Cell > Cell Type > Markdown\n",
    "   - Markdown syntax: http://nestacms.com/docs/creating-content/markdown-cheat-sheet\n",
    "\n",
    "\n",
    "#### Resources\n",
    "+ Experiment information and data source: http://www.povertyactionlab.org/evaluation/discrimination-job-market-united-states\n",
    "+ Scipy statistical methods: http://docs.scipy.org/doc/scipy/reference/stats.html \n",
    "+ Markdown syntax: http://nestacms.com/docs/creating-content/markdown-cheat-sheet\n",
    "+ Formulas for the Bernoulli distribution: https://en.wikipedia.org/wiki/Bernoulli_distribution\n",
    "</div>\n",
    "****"
   ]
  },
  {
   "cell_type": "code",
   "execution_count": 14,
   "metadata": {},
   "outputs": [],
   "source": [
    "import pandas as pd\n",
    "import numpy as np\n",
    "from scipy import stats\n",
    "import numpy as np\n",
    "%matplotlib inline\n",
    "import matplotlib.pyplot as plt\n",
    "import seaborn as sns"
   ]
  },
  {
   "cell_type": "code",
   "execution_count": 2,
   "metadata": {},
   "outputs": [],
   "source": [
    "data = pd.io.stata.read_stata('data/us_job_market_discrimination.dta')"
   ]
  },
  {
   "cell_type": "code",
   "execution_count": 7,
   "metadata": {
    "scrolled": true
   },
   "outputs": [
    {
     "data": {
      "text/plain": [
       "157.0"
      ]
     },
     "execution_count": 7,
     "metadata": {},
     "output_type": "execute_result"
    }
   ],
   "source": [
    "# number of callbacks for black-sounding names\n",
    "sum(data[data.race=='b'].call)"
   ]
  },
  {
   "cell_type": "code",
   "execution_count": 20,
   "metadata": {},
   "outputs": [],
   "source": [
    "data.to_csv(r'C:\\Users\\sirro\\Documents\\Skool\\Springboard\\export_dataframe.csv', index = None, header=True)"
   ]
  },
  {
   "cell_type": "code",
   "execution_count": 10,
   "metadata": {},
   "outputs": [
    {
     "name": "stdout",
     "output_type": "stream",
     "text": [
      "<class 'pandas.core.frame.DataFrame'>\n",
      "Int64Index: 4870 entries, 0 to 4869\n",
      "Data columns (total 65 columns):\n",
      "id                    4870 non-null object\n",
      "ad                    4870 non-null object\n",
      "education             4870 non-null int8\n",
      "ofjobs                4870 non-null int8\n",
      "yearsexp              4870 non-null int8\n",
      "honors                4870 non-null int8\n",
      "volunteer             4870 non-null int8\n",
      "military              4870 non-null int8\n",
      "empholes              4870 non-null int8\n",
      "occupspecific         4870 non-null int16\n",
      "occupbroad            4870 non-null int8\n",
      "workinschool          4870 non-null int8\n",
      "email                 4870 non-null int8\n",
      "computerskills        4870 non-null int8\n",
      "specialskills         4870 non-null int8\n",
      "firstname             4870 non-null object\n",
      "sex                   4870 non-null object\n",
      "race                  4870 non-null object\n",
      "h                     4870 non-null float32\n",
      "l                     4870 non-null float32\n",
      "call                  4870 non-null float32\n",
      "city                  4870 non-null object\n",
      "kind                  4870 non-null object\n",
      "adid                  4870 non-null float32\n",
      "fracblack             4784 non-null float32\n",
      "fracwhite             4784 non-null float32\n",
      "lmedhhinc             4784 non-null float32\n",
      "fracdropout           4784 non-null float32\n",
      "fraccolp              4784 non-null float32\n",
      "linc                  4784 non-null float32\n",
      "col                   4870 non-null float32\n",
      "expminreq             4870 non-null object\n",
      "schoolreq             4870 non-null object\n",
      "eoe                   4870 non-null float32\n",
      "parent_sales          1672 non-null float32\n",
      "parent_emp            1722 non-null float32\n",
      "branch_sales          608 non-null float32\n",
      "branch_emp            658 non-null float32\n",
      "fed                   3102 non-null float32\n",
      "fracblack_empzip      1918 non-null float32\n",
      "fracwhite_empzip      1918 non-null float32\n",
      "lmedhhinc_empzip      1908 non-null float32\n",
      "fracdropout_empzip    1918 non-null float32\n",
      "fraccolp_empzip       1918 non-null float32\n",
      "linc_empzip           1918 non-null float32\n",
      "manager               4870 non-null float32\n",
      "supervisor            4870 non-null float32\n",
      "secretary             4870 non-null float32\n",
      "offsupport            4870 non-null float32\n",
      "salesrep              4870 non-null float32\n",
      "retailsales           4870 non-null float32\n",
      "req                   4870 non-null float32\n",
      "expreq                4870 non-null float32\n",
      "comreq                4870 non-null float32\n",
      "educreq               4870 non-null float32\n",
      "compreq               4870 non-null float32\n",
      "orgreq                4870 non-null float32\n",
      "manuf                 4870 non-null float32\n",
      "transcom              4870 non-null float32\n",
      "bankreal              4870 non-null float32\n",
      "trade                 4870 non-null float32\n",
      "busservice            4870 non-null float32\n",
      "othservice            4870 non-null float32\n",
      "missind               4870 non-null float32\n",
      "ownership             4870 non-null object\n",
      "dtypes: float32(42), int16(1), int8(12), object(10)\n",
      "memory usage: 1.3+ MB\n"
     ]
    }
   ],
   "source": [
    "data.info()"
   ]
  },
  {
   "cell_type": "markdown",
   "metadata": {
    "collapsed": true
   },
   "source": [
    "<div class=\"span5 alert alert-success\">\n",
    "<p>Your answers to Q1 and Q2 here</p>\n",
    "</div>"
   ]
  },
  {
   "cell_type": "markdown",
   "metadata": {},
   "source": [
    "#### What test is appropriate for this problem? Does CLT apply?"
   ]
  },
  {
   "cell_type": "markdown",
   "metadata": {},
   "source": [
    "In order to determine the existence of racial discrimination a two sample t-test statistic would be appropriate. The following conditions where met; 1. The samples are random and 2. Unknown population standard deviation. There are rows of data representing each idividual therefore the Central Limit Theorem applies in this situation."
   ]
  },
  {
   "cell_type": "markdown",
   "metadata": {},
   "source": [
    "#### What are the null and alternate hypotheses?"
   ]
  },
  {
   "cell_type": "markdown",
   "metadata": {},
   "source": [
    "H<sub>O</sub>: There is no racial discrimination <br>\n",
    "H<sub>A</sub>: There is racial discrimination"
   ]
  },
  {
   "cell_type": "markdown",
   "metadata": {},
   "source": [
    "#### Compute margin of error, confidence interval, and p-value. Try using both the bootstrapping and the frequentist statistical approaches."
   ]
  },
  {
   "cell_type": "code",
   "execution_count": 12,
   "metadata": {},
   "outputs": [
    {
     "name": "stdout",
     "output_type": "stream",
     "text": [
      "With 99% confidence the interval is (-2.4813415006882993, 2.6743599818236676)\n",
      "With 99% confidence the interval is (-2.51337435554336, 2.642327126968607)\n"
     ]
    }
   ],
   "source": [
    "# Your solution to Q3 here\n",
    "w = data[data.race=='w']\n",
    "b = data[data.race=='b']\n",
    "\n",
    "#Margin of error at 99% confidence, white sounding names\n",
    "n_w = len(w.call)\n",
    "m_w = stats.t.ppf((1 + 0.99) / 2, n_w - 1)\n",
    "\n",
    "#Margin of error at 99% confidence, black sounding names\n",
    "n_b = len(b.call)\n",
    "m_b = stats.t.ppf((1 + 0.99) / 2, n_b - 1)\n",
    "\n",
    "#Confidence Intervals\n",
    "ci_w = (np.mean(w.call) - m_w, np.mean(w.call) + m_w)\n",
    "print('With 99% confidence the interval is', ci_w)\n",
    "\n",
    "ci_b = (np.mean(b.call) - m_w, np.mean(b.call) + m_b)\n",
    "print('With 99% confidence the interval is', ci_b)"
   ]
  },
  {
   "cell_type": "code",
   "execution_count": 15,
   "metadata": {
    "scrolled": true
   },
   "outputs": [
    {
     "name": "stdout",
     "output_type": "stream",
     "text": [
      "t-statistic: 4.114705290861751\n",
      "p-value: 3.940802103128886e-05\n"
     ]
    }
   ],
   "source": [
    "#Two sample t-test\n",
    "t, p = stats.ttest_ind(w.call, b.call)\n",
    "print(\"t-statistic:\", t)\n",
    "print(\"p-value:\", p)"
   ]
  },
  {
   "cell_type": "markdown",
   "metadata": {},
   "source": [
    "The p-value (3.94e-5) obtained for the two-sample t-test is less than 0.01 (significance level, 99% confidence). Therefore with 99% confidence the null hypothesis can be rejected, there's a significant difference between the callbacks for blacks and whites."
   ]
  },
  {
   "cell_type": "markdown",
   "metadata": {},
   "source": [
    "<div class=\"span5 alert alert-success\">\n",
    "<p> Your answers to Q4 and Q5 here </p>\n",
    "</div>"
   ]
  },
  {
   "cell_type": "markdown",
   "metadata": {},
   "source": [
    "#### Write a story describing the statistical significance in the context or the original problem."
   ]
  },
  {
   "cell_type": "markdown",
   "metadata": {
    "collapsed": true
   },
   "source": [
    "Racial diversity exist for the purpose of cultural enhancement however it has become a sore point in the US society. This research seeks to evalute the policies of companies as it relates to racial diversity in the workplace. A two sample t-test was performed to determine if the differecne in the number of callbacks for white-sounding names compared to black-sounding names was statistically significant. A p-value of 3.94e-5 reveals that there is a signficant difference between the callbacks received by each group, an indication of racial discrimination in the workplace. "
   ]
  },
  {
   "cell_type": "markdown",
   "metadata": {},
   "source": [
    "#### Does your analysis mean that race/name is the most important factor in callback success? Why or why not? If not, how would you amend your analysis?"
   ]
  },
  {
   "cell_type": "markdown",
   "metadata": {},
   "source": [
    "Race/name may not be the only factor that would result in a callback. Other factors which may directly influence callback rates include gender, education and years of experience. It is difficult to determine how education influence callback due to the fact that I'm ignorant of what level of education each numeral (0-4) represent. The analysis (mean/average) below takes into consideration race, race-years of experience, gender-years of experience and race-gender-years of experience relationships. The significants of each as not be evaluated however just by eyeballing the averages, in order for a black female to receive a callback they are required to have a lot more experience than the other groups. "
   ]
  },
  {
   "cell_type": "code",
   "execution_count": 23,
   "metadata": {},
   "outputs": [
    {
     "name": "stdout",
     "output_type": "stream",
     "text": [
      "The average years of experience for white-sounding names is 7.856262833675565\n",
      "The average years of experience for black-sounding names is 7.829568788501026\n",
      "\n",
      "The average years of experience for white-sounding names which received a callback is 8.782978723404256\n",
      "The average years of experience for black-sounding names which received a callback is 9.050955414012739\n",
      "\n",
      "The average years of experience for white-sounding names which received no callback is 7.757272727272727\n",
      "The average years of experience for black-sounding names which received no callback is 7.74539069359087\n",
      "\n"
     ]
    }
   ],
   "source": [
    "# Average Years Experience \n",
    "w_exp = np.mean(w.yearsexp)\n",
    "b_exp = np.mean(b.yearsexp)\n",
    "\n",
    "print('The average years of experience for white-sounding names is', w_exp)\n",
    "print('The average years of experience for black-sounding names is', b_exp)\n",
    "print()\n",
    "\n",
    "# Average Years Expereince for callbacks\n",
    "w_exp_call = np.mean(w.yearsexp[w.call == 1])\n",
    "b_exp_call = np.mean(b.yearsexp[b.call == 1])\n",
    "\n",
    "print('The average years of experience for white-sounding names which received a callback is', w_exp_call)\n",
    "print('The average years of experience for black-sounding names which received a callback is', b_exp_call)\n",
    "print()\n",
    "\n",
    "# Average Years Experience for no-callbacks\n",
    "w_exp_nocall = np.mean(w.yearsexp[w.call == 0])\n",
    "b_exp_nocall = np.mean(b.yearsexp[b.call == 0])\n",
    "\n",
    "print('The average years of experience for white-sounding names which received no callback is', w_exp_nocall)\n",
    "print('The average years of experience for black-sounding names which received no callback is', b_exp_nocall)\n",
    "print()"
   ]
  },
  {
   "cell_type": "code",
   "execution_count": 32,
   "metadata": {},
   "outputs": [
    {
     "name": "stdout",
     "output_type": "stream",
     "text": [
      "The number of males which received a callback is 309.0\n",
      "The number of female which received a callback is 83.0\n",
      "\n",
      "The average years of experience for white-sounding names and female which received a callback is 8.994565217391305\n",
      "The average years of experience for white-sounding names and male which received a callback is 8.019607843137255\n",
      "\n",
      "The average years of experience for black-sounding names and female which received a callback is 9.728\n",
      "The average years of experience for black-sounding names and male which received a callback is 6.40625\n"
     ]
    }
   ],
   "source": [
    "#Call backs per gender\n",
    "f_call = sum(data[data.sex == 'f'].call)\n",
    "m_call = sum(data[data.sex == 'm'].call)\n",
    "print('The number of males which received a callback is', f_call)\n",
    "print('The number of female which received a callback is', m_call)\n",
    "print()\n",
    "\n",
    "# Average Years Expereince for callbacks by race and gender\n",
    "w_exp_callf = np.mean(w.yearsexp[w.call == 1][w.sex == 'f'])\n",
    "w_exp_callm = np.mean(w.yearsexp[w.call == 1][w.sex == 'm'])\n",
    "print('The average years of experience for white-sounding names and female which received a callback is', w_exp_callf)\n",
    "print('The average years of experience for white-sounding names and male which received a callback is', w_exp_callm)\n",
    "print()\n",
    "\n",
    "b_exp_callf = np.mean(b.yearsexp[b.call == 1][b.sex == 'f'])\n",
    "b_exp_callm = np.mean(b.yearsexp[b.call == 1][b.sex == 'm'])\n",
    "print('The average years of experience for black-sounding names and female which received a callback is', b_exp_callf)\n",
    "print('The average years of experience for black-sounding names and male which received a callback is', b_exp_callm)\n",
    "\n",
    "                      "
   ]
  }
 ],
 "metadata": {
  "kernelspec": {
   "display_name": "Python 3",
   "language": "python",
   "name": "python3"
  },
  "language_info": {
   "codemirror_mode": {
    "name": "ipython",
    "version": 3
   },
   "file_extension": ".py",
   "mimetype": "text/x-python",
   "name": "python",
   "nbconvert_exporter": "python",
   "pygments_lexer": "ipython3",
   "version": "3.6.5"
  }
 },
 "nbformat": 4,
 "nbformat_minor": 1
}
