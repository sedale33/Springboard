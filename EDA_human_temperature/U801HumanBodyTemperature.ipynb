{
 "cells": [
  {
   "cell_type": "markdown",
   "metadata": {},
   "source": [
    "# What is the True Normal Human Body Temperature? \n",
    "\n",
    "#### Background\n",
    "\n",
    "The mean normal body temperature was held to be 37$^{\\circ}$C or 98.6$^{\\circ}$F for more than 120 years since it was first conceptualized and reported by Carl Wunderlich in a famous 1868 book. But, is this value statistically correct?"
   ]
  },
  {
   "cell_type": "markdown",
   "metadata": {},
   "source": [
    "<h3>Exercises</h3>\n",
    "\n",
    "<p>In this exercise, you will analyze a dataset of human body temperatures and employ the concepts of hypothesis testing, confidence intervals, and statistical significance.</p>\n",
    "\n",
    "<p>Answer the following questions <b>in this notebook below and submit to your Github account</b>.</p> \n",
    "\n",
    "<ol>\n",
    "<li>  Is the distribution of body temperatures normal? \n",
    "    <ul>\n",
    "    <li> Although this is not a requirement for the Central Limit Theorem to hold (read the introduction on Wikipedia's page about the CLT carefully: https://en.wikipedia.org/wiki/Central_limit_theorem, it gives us some peace of mind that the population may also be normally distributed if we assume that this sample is representative of the population.\n",
    "    <li> Think about the way you're going to check for the normality of the distribution. Graphical methods are usually used first, but there are also other ways: https://en.wikipedia.org/wiki/Normality_test\n",
    "    </ul>\n",
    "<li>  Is the sample size large? Are the observations independent?\n",
    "    <ul>\n",
    "    <li> Remember that this is a condition for the Central Limit Theorem, and hence the statistical tests we are using, to apply.\n",
    "    </ul>\n",
    "<li>  Is the true population mean really 98.6 degrees F?\n",
    "    <ul>\n",
    "    <li> First, try a bootstrap hypothesis test.\n",
    "    <li> Now, let's try frequentist statistical testing. Would you use a one-sample or two-sample test? Why?\n",
    "    <li> In this situation, is it appropriate to use the $t$ or $z$ statistic? \n",
    "    <li> Now try using the other test. How is the result be different? Why?\n",
    "    </ul>\n",
    "<li>  Draw a small sample of size 10 from the data and repeat both frequentist tests. \n",
    "    <ul>\n",
    "    <li> Which one is the correct one to use? \n",
    "    <li> What do you notice? What does this tell you about the difference in application of the $t$ and $z$ statistic?\n",
    "    </ul>\n",
    "<li>  At what temperature should we consider someone's temperature to be \"abnormal\"?\n",
    "    <ul>\n",
    "    <li> As in the previous example, try calculating everything using the boostrap approach, as well as the frequentist approach.\n",
    "    <li> Start by computing the margin of error and confidence interval. When calculating the confidence interval, keep in mind that you should use the appropriate formula for one draw, and not N draws.\n",
    "    </ul>\n",
    "<li>  Is there a significant difference between males and females in normal temperature?\n",
    "    <ul>\n",
    "    <li> What testing approach did you use and why?\n",
    "    <li> Write a story with your conclusion in the context of the original problem.\n",
    "    </ul>\n",
    "</ol>\n",
    "\n",
    "You can include written notes in notebook cells using Markdown: \n",
    "   - In the control panel at the top, choose Cell > Cell Type > Markdown\n",
    "   - Markdown syntax: http://nestacms.com/docs/creating-content/markdown-cheat-sheet\n",
    "\n",
    "#### Resources\n",
    "\n",
    "+ Information and data sources: http://www.amstat.org/publications/jse/datasets/normtemp.txt, http://www.amstat.org/publications/jse/jse_data_archive.htm\n",
    "+ Markdown syntax: http://nestacms.com/docs/creating-content/markdown-cheat-sheet\n",
    "\n",
    "****"
   ]
  },
  {
   "cell_type": "code",
   "execution_count": 1,
   "metadata": {},
   "outputs": [],
   "source": [
    "import pandas as pd\n",
    "\n",
    "df = pd.read_csv('data/human_body_temperature.csv')"
   ]
  },
  {
   "cell_type": "code",
   "execution_count": 40,
   "metadata": {},
   "outputs": [
    {
     "data": {
      "image/png": "[encoded data removed]",
      "text/plain": [
       "<Figure size 432x288 with 2 Axes>"
      ]
     },
     "metadata": {},
     "output_type": "display_data"
    },
    {
     "name": "stdout",
     "output_type": "stream",
     "text": [
      "Human Body Temperture median and 2.5 percentile difference is 1.5775000000000006\n",
      "Human Body Temperture median and 97.5 percentile difference is 1.177500000000009\n",
      "Distribution is normal.\n"
     ]
    }
   ],
   "source": [
    "# Your work here.\n",
    "%matplotlib inline\n",
    "import numpy as np\n",
    "import matplotlib.pyplot as plt\n",
    "import seaborn as sns\n",
    "import scipy.stats as stats\n",
    "\n",
    "mean = np.mean(df['temperature'])\n",
    "std = np.std(df['temperature'])\n",
    "\n",
    "def ecdf(data):\n",
    "    return np.sort(data), np.arange(1, len(data) + 1) / len(data)\n",
    "\n",
    "#Create normal data based on sample mean and std\n",
    "np.random.seed(42)\n",
    "norm_data = np.random.normal(mean, std, 10000)\n",
    "\n",
    "# x and y values for the normal data and the sample data\n",
    "x_nd, y_nd = ecdf(norm_data)\n",
    "x_hbt, y_hbt = ecdf(df['temperature'])\n",
    "\n",
    "sns.set()\n",
    "\n",
    "plt.subplot(1,2,1)\n",
    "plt.boxplot([x_nd, x_hbt], labels=['normal', 'body temp'], widths=0.95, showmeans=True, meanline=True)\n",
    "plt.ylabel('temperature (F)')\n",
    "plt.title('Boxplot Normality Test')\n",
    "\n",
    "\n",
    "plt.subplot(1,2,2)\n",
    "#plot ecdf of normal data and sample data\n",
    "plt.plot(x_nd, y_nd)\n",
    "plt.plot(x_hbt, y_hbt, marker='.', linestyle='none')\n",
    "\n",
    "#Label axis\n",
    "plt.xlabel('temperature (F)')\n",
    "plt.ylabel('ECDF')\n",
    "plt.title('ECDF Normality Test')\n",
    "plt.legend(('Normal Dis', 'Sample Dis'), loc='lower right')\n",
    "#Set margin\n",
    "plt.margins(0.02)\n",
    "plt.tight_layout()\n",
    "\n",
    "#Show \n",
    "plt.show()\n",
    "\n",
    "#Percentile\n",
    "p = [2.5, 50, 97.5]\n",
    "\n",
    "print('Human Body Temperture median and', p[0], 'percentile difference is', np.percentile(x_hbt, p)[1] -np.percentile(x_hbt, p)[0])\n",
    "print('Human Body Temperture median and', p[2], 'percentile difference is', np.percentile(x_hbt, p)[2] -np.percentile(x_hbt, p)[1])\n",
    "\n",
    "#measure of normality\n",
    "k, p_val = stats.normaltest(df.temperature)\n",
    "if p_val < 0.05:\n",
    "    print('Distribution is not normal.')\n",
    "else:\n",
    "    print('Distribution is normal.')"
   ]
  },
  {
   "cell_type": "markdown",
   "metadata": {},
   "source": [
    "### 1. Is the distribution of body temperatures normal?"
   ]
  },
  {
   "cell_type": "markdown",
   "metadata": {},
   "source": [
    "The 2.5 and 97.5 percentile to median differences, 1.58 and 1.18 respectively, indicates an uneven spread of the data about the median however close distribution. The boxplot compares the normal ditribution and the human body temperature data set and it can be seen that the median is higher than the mean which is an indication of an offset distribution. The ECDF shows the data points are above or below the theoretical normal curve. Therefore the data is close to <b>normal</b>."
   ]
  },
  {
   "cell_type": "markdown",
   "metadata": {},
   "source": [
    "### 2. Is the sample size large? Are the observations independent?"
   ]
  },
  {
   "cell_type": "code",
   "execution_count": 5,
   "metadata": {},
   "outputs": [
    {
     "name": "stdout",
     "output_type": "stream",
     "text": [
      "There are 130 observations.\n"
     ]
    }
   ],
   "source": [
    "print('There are', len(df.temperature), 'observations.')"
   ]
  },
  {
   "cell_type": "markdown",
   "metadata": {},
   "source": [
    "The sample size of 30 or more satisfies the rule of thumb for the central limit theorem. In terms of independence there is one of two conditons to be considered independent; sample is less than 10% of the population and sampling with replacement. The assumption is that the population is greater than 1300 and therefore the observations are <b>independent</b>."
   ]
  },
  {
   "cell_type": "markdown",
   "metadata": {},
   "source": [
    "### 3. Is the true population mean really 98.6 degrees F?"
   ]
  },
  {
   "cell_type": "markdown",
   "metadata": {},
   "source": [
    "#### a. First, try a bootstrap hypothesis test."
   ]
  },
  {
   "cell_type": "markdown",
   "metadata": {},
   "source": [
    "Hypothesis <br>\n",
    "H<sub>O</sub>: mu = 98.6$^{\\circ}$F <br>\n",
    "H<sub>A</sub>: mu != 98.6$^{\\circ}$F"
   ]
  },
  {
   "cell_type": "code",
   "execution_count": 6,
   "metadata": {
    "scrolled": true
   },
   "outputs": [
    {
     "name": "stdout",
     "output_type": "stream",
     "text": [
      "The p-value is 0.0\n"
     ]
    }
   ],
   "source": [
    "def bootstrap_replicate_1d(data, func):\n",
    "    return func(np.random.choice(data, size=len(data)))\n",
    "\n",
    "def draw_bs_reps(data, func, size=1):\n",
    "    return np.array([bootstrap_replicate_1d(data, func) for a in range(size)])\n",
    "\n",
    "translated_hbt = df.temperature - np.mean(df.temperature) + 98.6\n",
    "\n",
    "bs_replicates = draw_bs_reps(translated_hbt, np.mean, 10000)\n",
    "\n",
    "p_value = np.sum(bs_replicates <= np.mean(df.temperature))/len(bs_replicates)\n",
    "\n",
    "print('The p-value is', p_value)"
   ]
  },
  {
   "cell_type": "markdown",
   "metadata": {},
   "source": [
    "A p-value of 0.0 is an indication that there should be a failure to accept the null (H<sub>O</sub>: mu = 98.6$^{\\circ}$F) in favor of the alternative hypothesis (H<sub>A</sub>: mu != 98.6$^{\\circ}$F)."
   ]
  },
  {
   "cell_type": "markdown",
   "metadata": {},
   "source": [
    "#### b. Now, let's try frequentist statistical testing. Would you use a one-sample or two-sample test? Why?"
   ]
  },
  {
   "cell_type": "markdown",
   "metadata": {},
   "source": [
    "The problem provided the mean of the population (98.6$^{\\circ}$F) and we can determine the descriptive statistics from the sample data, therefore a <b>one-sample t-test statistic</b> is suited for this analysis since there's no comparison between groups. The t-statistic is preferred over the z-statistic since the population standard deviation is unknown. Even if we are to use the sample's standard deviation."
   ]
  },
  {
   "cell_type": "markdown",
   "metadata": {},
   "source": [
    "#### c. In this situation, is it appropriate to use the  t-test  or  z-test  statistic?"
   ]
  },
  {
   "cell_type": "code",
   "execution_count": 11,
   "metadata": {},
   "outputs": [
    {
     "name": "stdout",
     "output_type": "stream",
     "text": [
      "The t-value is -5.4548232923645195 and the p-value is 2.4106320415561276e-07\n"
     ]
    }
   ],
   "source": [
    "#Using t-statistic\n",
    "pop_mean = 98.6\n",
    "\n",
    "t, p = stats.ttest_1samp(df.temperature, pop_mean)\n",
    "print('The t-value is', t, 'and the p-value is', p)"
   ]
  },
  {
   "cell_type": "code",
   "execution_count": 19,
   "metadata": {},
   "outputs": [
    {
     "name": "stdout",
     "output_type": "stream",
     "text": [
      "The zscore is -5.475925202078116 and the p-value is 4.3523151658821886e-08\n"
     ]
    }
   ],
   "source": [
    "#Using z-statistic\n",
    "sam_mean = np.mean(df.temperature)\n",
    "z = (sam_mean - pop_mean) / (np.std(df.temperature)/np.sqrt(len(df.temperature)))\n",
    "z_p = stats.norm.sf(abs(z))*2\n",
    "print('The zscore is', z, 'and the p-value is', z_p)"
   ]
  },
  {
   "cell_type": "markdown",
   "metadata": {},
   "source": [
    "#### d. Now try using the other test. How is the result be different? Why?"
   ]
  },
  {
   "cell_type": "markdown",
   "metadata": {},
   "source": [
    "Both test result in similar standardized values, however a t-test prevent underestimation of the p-value and therefore it will be larger."
   ]
  },
  {
   "cell_type": "markdown",
   "metadata": {},
   "source": [
    "### 4. Draw a small sample of size 10 from the data and repeat both frequentist tests."
   ]
  },
  {
   "cell_type": "markdown",
   "metadata": {},
   "source": [
    "#### a. Which one is the correct one to use?\n",
    "#### b. What do you notice? What does this tell you about the difference in application of the  tt  and  zz  statistic?"
   ]
  },
  {
   "cell_type": "code",
   "execution_count": 13,
   "metadata": {},
   "outputs": [
    {
     "name": "stdout",
     "output_type": "stream",
     "text": [
      "The t-value is -1.3605380662763995 and the p-value is 0.20675496612082248\n"
     ]
    }
   ],
   "source": [
    "sub_samp = np.random.choice(df.temperature, 10)\n",
    "\n",
    "sub_t, sub_p = stats.ttest_1samp(sub_samp, pop_mean)\n",
    "print('The t-value is', sub_t, 'and the p-value is', sub_p)\n"
   ]
  },
  {
   "cell_type": "code",
   "execution_count": 14,
   "metadata": {},
   "outputs": [
    {
     "name": "stdout",
     "output_type": "stream",
     "text": [
      "The z-value is -1.4341330442648481 and the p-value is 0.1515342996549623\n"
     ]
    }
   ],
   "source": [
    "sub_z = (np.mean(sub_samp) - pop_mean) / (np.std(sub_samp)/np.sqrt(len(sub_samp)))\n",
    "sub_z_p = stats.norm.sf(abs(sub_z))*2\n",
    "\n",
    "print('The z-value is', sub_z, 'and the p-value is', sub_z_p)"
   ]
  },
  {
   "cell_type": "markdown",
   "metadata": {},
   "source": [
    "Both values are close, the p-values obtained from the z-statistic is great than that for the t-statistic. However the conditions for choosing the appropriate method must be observed. For the first determinaterminant is that there's no information about the population standard deviation and for the second the sample size is <30. "
   ]
  },
  {
   "cell_type": "markdown",
   "metadata": {},
   "source": [
    "### 5. At what temperature should we consider someone's temperature to be \"abnormal\"?"
   ]
  },
  {
   "cell_type": "markdown",
   "metadata": {},
   "source": [
    "#### Start by computing the margin of error and confidence interval. When calculating the confidence interval, keep in mind that you should use the appropriate formula for one draw, and not N draws."
   ]
  },
  {
   "cell_type": "code",
   "execution_count": 21,
   "metadata": {},
   "outputs": [
    {
     "name": "stdout",
     "output_type": "stream",
     "text": [
      "With 99% confidence the interval is (95.63475208953099, 100.86370944893056)\n"
     ]
    }
   ],
   "source": [
    "#Margin of error at 99% confidence\n",
    "n = len(df.temperature)\n",
    "m = stats.t.ppf((1 + 0.99) / 2, n - 1)\n",
    "\n",
    "ci = (sam_mean - m, sam_mean + m)\n",
    "print('With 99% confidence the interval is', ci)"
   ]
  },
  {
   "cell_type": "markdown",
   "metadata": {},
   "source": [
    "In order for someone's temperature to be considered \"abnormal\" their temperature should be below 95.6$^{\\circ}$F or above 100.9$^{\\circ}$F "
   ]
  },
  {
   "cell_type": "markdown",
   "metadata": {},
   "source": [
    "### 6. Is there a significant difference between males and females in normal temperature?"
   ]
  },
  {
   "cell_type": "code",
   "execution_count": 31,
   "metadata": {},
   "outputs": [],
   "source": [
    "#Separate the temperatures by gender\n",
    "f_data = df[df.gender == 'F']\n",
    "m_data = df[df.gender == 'M']"
   ]
  },
  {
   "cell_type": "code",
   "execution_count": 41,
   "metadata": {},
   "outputs": [
    {
     "name": "stdout",
     "output_type": "stream",
     "text": [
      "Female mean body temperature is 98.39384615384613\n",
      "Male mean body temperature is 98.1046153846154\n"
     ]
    }
   ],
   "source": [
    "#Means by gender\n",
    "f_t_mean = np.mean(f_data.temperature)\n",
    "m_t_mean = np.mean(m_data.temperature)\n",
    "print('Female mean body temperature is', f_t_mean)\n",
    "print('Male mean body temperature is',m_t_mean)"
   ]
  },
  {
   "cell_type": "code",
   "execution_count": 38,
   "metadata": {
    "scrolled": true
   },
   "outputs": [
    {
     "data": {
      "image/png": "[encoded data removed]",
      "text/plain": [
       "<Figure size 432x288 with 1 Axes>"
      ]
     },
     "metadata": {},
     "output_type": "display_data"
    }
   ],
   "source": [
    "sns.boxplot(x='gender', y='temperature', data=df)\n",
    "plt.xlabel('Gender')\n",
    "plt.ylabel('Temperature ($^{\\circ}$F)')\n",
    "plt.title('Gender Body Temperature Comparison')\n",
    "plt.show()"
   ]
  },
  {
   "cell_type": "markdown",
   "metadata": {},
   "source": [
    "#### a. What testing approach did you use and why?\n"
   ]
  },
  {
   "cell_type": "markdown",
   "metadata": {},
   "source": [
    "A boxplot of the temperature by gender visually indicates that there's more spread for females, the females mean body temperature is higher than males. A two-sample t-test statistic will be used to test if there's significant body temperature differnce between the genders"
   ]
  },
  {
   "cell_type": "markdown",
   "metadata": {},
   "source": [
    "#### b. Write a story with your conclusion in the context of the original problem."
   ]
  },
  {
   "cell_type": "markdown",
   "metadata": {},
   "source": [
    "Hypothesis <br>\n",
    "H<sub>O</sub>: There's no significant difference <br>\n",
    "H<sub>A</sub>: There's a significant difference"
   ]
  },
  {
   "cell_type": "code",
   "execution_count": 43,
   "metadata": {},
   "outputs": [
    {
     "name": "stdout",
     "output_type": "stream",
     "text": [
      "t-statistic: 2.2854345381656103\n",
      "p-value: 0.02393188312239561\n"
     ]
    }
   ],
   "source": [
    "#Two sample t-test\n",
    "diff_t, diff_p = stats.ttest_ind(f_data.temperature, m_data.temperature)\n",
    "print(\"t-statistic:\", diff_t)\n",
    "print(\"p-value:\", diff_p)"
   ]
  },
  {
   "cell_type": "markdown",
   "metadata": {},
   "source": [
    "The p-value (0.024) obtained for the two-sample t-test is less than 0.05 (significance level, 95% confidence). Therefore with 95% confidence the null hypothesis can be rejected, there's a significant difference between the body temperatures of males and females. "
   ]
  }
 ],
 "metadata": {
  "kernelspec": {
   "display_name": "Python 3",
   "language": "python",
   "name": "python3"
  },
  "language_info": {
   "codemirror_mode": {
    "name": "ipython",
    "version": 3
   },
   "file_extension": ".py",
   "mimetype": "text/x-python",
   "name": "python",
   "nbconvert_exporter": "python",
   "pygments_lexer": "ipython3",
   "version": "3.6.5"
  }
 },
 "nbformat": 4,
 "nbformat_minor": 1
}
